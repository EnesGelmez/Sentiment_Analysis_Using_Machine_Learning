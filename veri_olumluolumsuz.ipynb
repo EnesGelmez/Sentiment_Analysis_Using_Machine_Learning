{
 "cells": [
  {
   "cell_type": "code",
   "execution_count": 16,
   "metadata": {},
   "outputs": [
    {
     "name": "stderr",
     "output_type": "stream",
     "text": [
      "D:\\PROGRAMLAR\\anaconda3\\lib\\site-packages\\IPython\\core\\interactiveshell.py:3146: DtypeWarning: Columns (1,2,3,4,5,6,7,8,9,10,11,12,13,14,15,16,17,18,19,20,21,22,23,24,25,26,27,28,29,30,31,32,33,34,35,36,37,38,39,40,41,42,43,44,45,46,47,48,49,50,51,52,53,54,55,56,57,58,59,60,61,62,63,64,65,66,67,68,69) have mixed types.Specify dtype option on import or set low_memory=False.\n",
      "  has_raised = await self.run_ast_nodes(code_ast.body, cell_name,\n"
     ]
    },
    {
     "name": "stdout",
     "output_type": "stream",
     "text": [
      "                                             Description  Polarity  \\\n",
      "0      My 3rd time watching this movie! Yet, it still...  0.250000   \n",
      "1      For someone like me, who've rarely slept witho...  0.328770   \n",
      "2      Memento, as his first signature in the cinema ...  0.374026   \n",
      "3      SPOILERS AHEAD !!!!! For all who haven't watch...  0.092233   \n",
      "4                       Some short lines about the cast:  0.000000   \n",
      "...                                                  ...       ...   \n",
      "42070  I've read all of the books, so of course I kne...  0.125373   \n",
      "42072  I'm 40, have read LOTR 5 times since age 12, m...  0.224545   \n",
      "42073  I am one of those people who never read. I sim...  0.212500   \n",
      "42074  Okay, it's definitely a hard task to please a ...  0.222401   \n",
      "42075  Best visual effects, best environment just lik...  0.078571   \n",
      "\n",
      "      Sentiment_Type  \n",
      "0           POSITIVE  \n",
      "1           POSITIVE  \n",
      "2           POSITIVE  \n",
      "3           POSITIVE  \n",
      "4            NEUTRAL  \n",
      "...              ...  \n",
      "42070       POSITIVE  \n",
      "42072       POSITIVE  \n",
      "42073       POSITIVE  \n",
      "42074       POSITIVE  \n",
      "42075       POSITIVE  \n",
      "\n",
      "[41544 rows x 3 columns]\n",
      "POSITIVE    34152\n",
      "NEGATIVE     4441\n",
      "NEUTRAL      2951\n",
      "Name: Sentiment_Type, dtype: int64\n"
     ]
    },
    {
     "data": {
      "image/png": "[encoded data removed]",
      "text/plain": [
       "<Figure size 432x288 with 1 Axes>"
      ]
     },
     "metadata": {
      "needs_background": "light"
     },
     "output_type": "display_data"
    }
   ],
   "source": [
    "from nltk.sentiment.vader import SentimentIntensityAnalyzer\n",
    "from nltk.sentiment.util import *\n",
    "from textblob import TextBlob\n",
    "from nltk import tokenize\n",
    "import pandas as pd\n",
    "a=0\n",
    "df = pd.read_csv(r'D:\\DERSLERIM\\3. SINIF\\2. Donem\\Machine learning\\Proje\\Proje\\Action\\.actions.csv')\n",
    "\n",
    "df.drop_duplicates(subset =\"Description\", keep = \"first\", inplace = True)\n",
    "df['Description'] = df['Description'].astype('str') \n",
    "def get_polarity(text): return TextBlob(text).sentiment.polarity \n",
    "df['Polarity'] = df['Description'].apply(get_polarity)\n",
    "df['Sentiment_Type']=''\n",
    "df.loc[df.Polarity>0,'Sentiment_Type']='POSITIVE'\n",
    "df.loc[df.Polarity==0,'Sentiment_Type']='NEUTRAL'\n",
    "df.loc[df.Polarity<0,'Sentiment_Type']='NEGATIVE'\n",
    "data = df.loc[:, ~df.columns.str.contains('^Unnamed')]\n",
    "df.Sentiment_Type.value_counts().plot(kind='bar',title=\"Sentiment Analysis\")\n",
    "print(data)\n",
    "print(df.Sentiment_Type.value_counts())"
   ]
  },
  {
   "cell_type": "code",
   "execution_count": 97,
   "metadata": {},
   "outputs": [
    {
     "name": "stderr",
     "output_type": "stream",
     "text": [
      "C:\\Users\\Enesg\\anaconda3\\lib\\site-packages\\IPython\\core\\interactiveshell.py:3146: DtypeWarning: Columns (18,19,20,21,22,23,24,25,26,27,28,29,30,31,32,33,34,35,36,37,38) have mixed types.Specify dtype option on import or set low_memory=False.\n",
      "  has_raised = await self.run_ast_nodes(code_ast.body, cell_name,\n"
     ]
    },
    {
     "name": "stdout",
     "output_type": "stream",
     "text": [
      "                                             Description  Polarity  \\\n",
      "0      'The Godfather' is the pinnacle of flawless fi...  0.276389   \n",
      "1      The acting was simply amazing, what else could...  0.442500   \n",
      "2      This isn't just a beautifully crafted gangster...  0.612500   \n",
      "3      One of the best films of all time, an absolute...  0.550000   \n",
      "4      It is now past 1 PM and I just finished watchi...  0.057229   \n",
      "...                                                  ...       ...   \n",
      "39429  The Green Mile truly surprised me.  I expected...  0.042424   \n",
      "39430  Like a lot of people, I was really looking for...  0.172667   \n",
      "39431  Despite some terrific performances (particular... -0.062847   \n",
      "39432  This movie was probably one of my biggest disa...  0.487500   \n",
      "39433  And I can't forget to mention the horrific sce... -0.010000   \n",
      "\n",
      "      Sentiment_Type  \n",
      "0           POSITIVE  \n",
      "1           POSITIVE  \n",
      "2           POSITIVE  \n",
      "3           POSITIVE  \n",
      "4           POSITIVE  \n",
      "...              ...  \n",
      "39429       POSITIVE  \n",
      "39430       POSITIVE  \n",
      "39431       NEGATIVE  \n",
      "39432       POSITIVE  \n",
      "39433       NEGATIVE  \n",
      "\n",
      "[38943 rows x 3 columns]\n",
      "POSITIVE    30763\n",
      "NEGATIVE     5089\n",
      "NEUTRAL      3091\n",
      "Name: Sentiment_Type, dtype: int64\n"
     ]
    },
    {
     "data": {
      "image/png": "[encoded data removed]",
      "text/plain": [
       "<Figure size 432x288 with 1 Axes>"
      ]
     },
     "metadata": {
      "needs_background": "light"
     },
     "output_type": "display_data"
    }
   ],
   "source": [
    "from nltk.sentiment.vader import SentimentIntensityAnalyzer\n",
    "from nltk.sentiment.util import *\n",
    "from textblob import TextBlob\n",
    "from nltk import tokenize\n",
    "import pandas as pd\n",
    "a=0\n",
    "df = pd.read_csv(r'D:\\DERSLERIM\\3. SINIF\\2. Dönem\\Machine learning\\Proje\\Proje\\Crime\\.crimes.csv') \n",
    "\n",
    "df.drop_duplicates(subset =\"Description\", keep = \"first\", inplace = True)\n",
    "df['Description'] = df['Description'].astype('str') \n",
    "def get_polarity(text): return TextBlob(text).sentiment.polarity \n",
    "df['Polarity'] = df['Description'].apply(get_polarity)\n",
    "df['Sentiment_Type']=''\n",
    "df.loc[df.Polarity>0,'Sentiment_Type']='POSITIVE'\n",
    "df.loc[df.Polarity==0,'Sentiment_Type']='NEUTRAL'\n",
    "df.loc[df.Polarity<0,'Sentiment_Type']='NEGATIVE'\n",
    "data = df.loc[:, ~df.columns.str.contains('^Unnamed')]\n",
    "df.Sentiment_Type.value_counts().plot(kind='bar',title=\"Sentiment Analysis\")\n",
    "print(data)\n",
    "print(df.Sentiment_Type.value_counts())"
   ]
  },
  {
   "cell_type": "code",
   "execution_count": 98,
   "metadata": {},
   "outputs": [
    {
     "name": "stderr",
     "output_type": "stream",
     "text": [
      "C:\\Users\\Enesg\\anaconda3\\lib\\site-packages\\IPython\\core\\interactiveshell.py:3146: DtypeWarning: Columns (39,40,41,42,43,44,45,46,47,48,49,50) have mixed types.Specify dtype option on import or set low_memory=False.\n",
      "  has_raised = await self.run_ast_nodes(code_ast.body, cell_name,\n"
     ]
    },
    {
     "name": "stdout",
     "output_type": "stream",
     "text": [
      "                                             Description  Polarity  \\\n",
      "0      The Sixth Sense enjoys being playful with our ...  0.025238   \n",
      "1      The surprise ending to \"The Sixth Sense\" has g...  0.061771   \n",
      "2      When I first saw The Sixth Sense, I didn't kno...  0.292778   \n",
      "3      I believe that a great movie is one that helps...  0.233333   \n",
      "4      What makes this film so wonderful to watch is ...  0.156585   \n",
      "...                                                  ...       ...   \n",
      "36314  Oscar made me do it. Yep. The only reason I sa...  0.241663   \n",
      "36315  Inglourious Basterds is in my Top 20 of all-ti...  0.225831   \n",
      "36316  Well, its here. What every QT fan in the unive...  0.234422   \n",
      "36317  I viewed a trailer for Django around 3 months ... -0.010967   \n",
      "36318  The movie captivated my attention from the fir...  0.089630   \n",
      "\n",
      "      Sentiment_Type  \n",
      "0           POSITIVE  \n",
      "1           POSITIVE  \n",
      "2           POSITIVE  \n",
      "3           POSITIVE  \n",
      "4           POSITIVE  \n",
      "...              ...  \n",
      "36314       POSITIVE  \n",
      "36315       POSITIVE  \n",
      "36316       POSITIVE  \n",
      "36317       NEGATIVE  \n",
      "36318       POSITIVE  \n",
      "\n",
      "[35646 rows x 3 columns]\n",
      "POSITIVE    30591\n",
      "NEGATIVE     3414\n",
      "NEUTRAL      1641\n",
      "Name: Sentiment_Type, dtype: int64\n"
     ]
    },
    {
     "data": {
      "image/png": "[encoded data removed]",
      "text/plain": [
       "<Figure size 432x288 with 1 Axes>"
      ]
     },
     "metadata": {
      "needs_background": "light"
     },
     "output_type": "display_data"
    }
   ],
   "source": [
    "from nltk.sentiment.vader import SentimentIntensityAnalyzer\n",
    "from nltk.sentiment.util import *\n",
    "from textblob import TextBlob\n",
    "from nltk import tokenize\n",
    "import pandas as pd\n",
    "a=0\n",
    "df = pd.read_csv(r'D:\\DERSLERIM\\3. SINIF\\2. Dönem\\Machine learning\\Proje\\Proje\\Drama\\.dramas.csv') \n",
    "\n",
    "df.drop_duplicates(subset =\"Description\", keep = \"first\", inplace = True)\n",
    "df['Description'] = df['Description'].astype('str') \n",
    "def get_polarity(text): return TextBlob(text).sentiment.polarity \n",
    "df['Polarity'] = df['Description'].apply(get_polarity)\n",
    "df['Sentiment_Type']=''\n",
    "df.loc[df.Polarity>0,'Sentiment_Type']='POSITIVE'\n",
    "df.loc[df.Polarity==0,'Sentiment_Type']='NEUTRAL'\n",
    "df.loc[df.Polarity<0,'Sentiment_Type']='NEGATIVE'\n",
    "data = df.loc[:, ~df.columns.str.contains('^Unnamed')]\n",
    "df.Sentiment_Type.value_counts().plot(kind='bar',title=\"Sentiment Analysis\")\n",
    "print(data)\n",
    "print(df.Sentiment_Type.value_counts())"
   ]
  },
  {
   "cell_type": "code",
   "execution_count": 4,
   "metadata": {},
   "outputs": [
    {
     "name": "stdout",
     "output_type": "stream",
     "text": [
      "Collecting textblob\n",
      "  Using cached textblob-0.15.3-py2.py3-none-any.whl (636 kB)\n",
      "Requirement already satisfied, skipping upgrade: nltk>=3.1 in d:\\programlar\\anaconda3\\lib\\site-packages (from textblob) (3.5)\n",
      "Requirement already satisfied, skipping upgrade: regex in d:\\programlar\\anaconda3\\lib\\site-packages (from nltk>=3.1->textblob) (2020.10.15)\n",
      "Requirement already satisfied, skipping upgrade: tqdm in d:\\programlar\\anaconda3\\lib\\site-packages (from nltk>=3.1->textblob) (4.50.2)\n",
      "Requirement already satisfied, skipping upgrade: click in d:\\programlar\\anaconda3\\lib\\site-packages (from nltk>=3.1->textblob) (7.1.2)\n",
      "Requirement already satisfied, skipping upgrade: joblib in d:\\programlar\\anaconda3\\lib\\site-packages (from nltk>=3.1->textblob) (0.17.0)\n",
      "Installing collected packages: textblob\n",
      "Successfully installed textblob-0.15.3\n",
      "Note: you may need to restart the kernel to use updated packages.\n"
     ]
    }
   ],
   "source": [
    "pip install -U textblob"
   ]
  },
  {
   "cell_type": "code",
   "execution_count": null,
   "metadata": {},
   "outputs": [],
   "source": []
  }
 ],
 "metadata": {
  "kernelspec": {
   "display_name": "Python 3",
   "language": "python",
   "name": "python3"
  },
  "language_info": {
   "codemirror_mode": {
    "name": "ipython",
    "version": 3
   },
   "file_extension": ".py",
   "mimetype": "text/x-python",
   "name": "python",
   "nbconvert_exporter": "python",
   "pygments_lexer": "ipython3",
   "version": "3.8.5"
  }
 },
 "nbformat": 4,
 "nbformat_minor": 4
}
